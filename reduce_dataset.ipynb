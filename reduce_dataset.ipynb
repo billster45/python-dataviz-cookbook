{
 "cells": [
  {
   "cell_type": "code",
   "execution_count": 2,
   "id": "a290dba1",
   "metadata": {},
   "outputs": [],
   "source": [
    "import pandas as pd"
   ]
  },
  {
   "cell_type": "markdown",
   "id": "ab113f49",
   "metadata": {},
   "source": [
    "## Line chart data"
   ]
  },
  {
   "cell_type": "code",
   "execution_count": 4,
   "id": "4be84998",
   "metadata": {},
   "outputs": [],
   "source": [
    "url = \"https://raw.githubusercontent.com/szrlee/Stock-Time-Series-Analysis/master/data/all_stocks_2006-01-01_to_2018-01-01.csv\"\n",
    "df = pd.read_csv(url)\n",
    "\n",
    "df = df.loc[df.Name.isin([\"AAPL\", \"JPM\", \"GOOGL\", \"AMZN\"])]\n",
    "df[\"Date\"] = pd.to_datetime(df.Date)"
   ]
  },
  {
   "cell_type": "code",
   "execution_count": 9,
   "id": "cfdd7ddb",
   "metadata": {},
   "outputs": [],
   "source": [
    "df[df.Date.dt.year >= 2015].to_csv(\"data/line_plot.csv\", index=False)"
   ]
  },
  {
   "cell_type": "markdown",
   "id": "27e98ba2",
   "metadata": {},
   "source": [
    "## Bar chart data"
   ]
  },
  {
   "cell_type": "code",
   "execution_count": 15,
   "id": "94864052",
   "metadata": {},
   "outputs": [],
   "source": [
    "url = \"https://raw.githubusercontent.com/szrlee/Stock-Time-Series-Analysis/master/data/all_stocks_2006-01-01_to_2018-01-01.csv\"\n",
    "df = pd.read_csv(url)\n",
    "\n",
    "df = df.loc[df.Name == \"AAPL\", [\"Date\", \"Open\", \"Close\", \"Name\"]]\n",
    "df[\"Year\"] = pd.to_datetime(df.Date).dt.year\n",
    "df = df.query(\"Year >= 2014\").groupby(\"Year\").max().reset_index(drop=False)"
   ]
  },
  {
   "cell_type": "code",
   "execution_count": 16,
   "id": "c8e35297",
   "metadata": {},
   "outputs": [],
   "source": [
    "df.drop(columns=[\"Date\"]).to_csv(\"data/bar_chart.csv\", index=False)"
   ]
  },
  {
   "cell_type": "markdown",
   "id": "627f8150",
   "metadata": {},
   "source": [
    "## Stacked bar chart data"
   ]
  },
  {
   "cell_type": "code",
   "execution_count": 17,
   "id": "78ef0704",
   "metadata": {},
   "outputs": [],
   "source": [
    "url = \"https://raw.githubusercontent.com/szrlee/Stock-Time-Series-Analysis/master/data/all_stocks_2006-01-01_to_2018-01-01.csv\"\n",
    "df = pd.read_csv(url)\n",
    "\n",
    "stocks_filter = [\"AAPL\", \"JPM\", \"GOOGL\", \"AMZN\", \"IBM\"]\n",
    "df = df[df.Name.isin(stocks_filter)]\n",
    "df[\"Date\"] = pd.to_datetime(df.Date)\n",
    "df[\"Year\"] = pd.to_datetime(df.Date).dt.year\n",
    "df[\"Volume\"] = df[\"Volume\"] / 1e9\n",
    "\n",
    "df = (\n",
    "    df[[\"Year\", \"Volume\", \"Name\"]]\n",
    "    .query(\"Year >= 2012\")\n",
    "    .groupby([\"Year\", \"Name\"])\n",
    "    .sum()\n",
    "    .reset_index(drop=False)\n",
    ")"
   ]
  },
  {
   "cell_type": "code",
   "execution_count": 20,
   "id": "28a81fed",
   "metadata": {},
   "outputs": [],
   "source": [
    "df.to_csv(\"data/stacked_bar_chart.csv\", index=False)"
   ]
  },
  {
   "cell_type": "markdown",
   "id": "cce3da0d",
   "metadata": {},
   "source": [
    "## Stacked area chart data"
   ]
  },
  {
   "cell_type": "code",
   "execution_count": 21,
   "id": "5faf1141",
   "metadata": {},
   "outputs": [],
   "source": [
    "url = \"https://raw.githubusercontent.com/szrlee/Stock-Time-Series-Analysis/master/data/all_stocks_2006-01-01_to_2018-01-01.csv\"\n",
    "df = pd.read_csv(url)\n",
    "\n",
    "stocks = [\"AAPL\", \"AMZN\", \"GOOGL\", \"IBM\", \"JPM\"]\n",
    "df = df.loc[df.Name.isin(stocks), [\"Date\", \"Name\", \"Volume\"]]\n",
    "df[\"Date\"] = pd.to_datetime(df.Date)\n",
    "df = df[df.Date.dt.year >= 2017]\n",
    "df[\"Volume Perc\"] = df[\"Volume\"] / df.groupby(\"Date\")[\"Volume\"].transform(\"sum\")"
   ]
  },
  {
   "cell_type": "code",
   "execution_count": 23,
   "id": "a9029543",
   "metadata": {},
   "outputs": [],
   "source": [
    "df.to_csv(\"data/stacked_area_chart.csv\", index=False)"
   ]
  },
  {
   "cell_type": "markdown",
   "id": "f8851f00",
   "metadata": {},
   "source": [
    "## Pie/Donut chart data"
   ]
  },
  {
   "cell_type": "code",
   "execution_count": 24,
   "id": "fa79208e",
   "metadata": {},
   "outputs": [],
   "source": [
    "url = \"https://raw.githubusercontent.com/szrlee/Stock-Time-Series-Analysis/master/data/all_stocks_2006-01-01_to_2018-01-01.csv\"\n",
    "df = pd.read_csv(url)\n",
    "\n",
    "stocks_filter = [\"AAPL\", \"JPM\", \"GOOGL\", \"AMZN\", \"IBM\"]\n",
    "df = df.loc[df.Name.isin(stocks_filter), [\"Name\", \"Volume\"]]\n",
    "df = df.groupby(\"Name\").sum().reset_index()"
   ]
  },
  {
   "cell_type": "code",
   "execution_count": 25,
   "id": "db88115f",
   "metadata": {},
   "outputs": [],
   "source": [
    "df.to_csv(\"data/donut_chart.csv\", index=False)"
   ]
  },
  {
   "cell_type": "markdown",
   "id": "5015e807",
   "metadata": {},
   "source": [
    "## Histogram data"
   ]
  },
  {
   "cell_type": "code",
   "execution_count": 32,
   "id": "683c2d83",
   "metadata": {},
   "outputs": [],
   "source": [
    "url = \"https://raw.githubusercontent.com/szrlee/Stock-Time-Series-Analysis/master/data/all_stocks_2006-01-01_to_2018-01-01.csv\"\n",
    "df = pd.read_csv(url)\n",
    "\n",
    "stocks_filter = [\"GOOGL\"]\n",
    "df = df.loc[df.Name.isin(stocks_filter), [\"Name\", \"Date\", \"Close\"]]"
   ]
  },
  {
   "cell_type": "code",
   "execution_count": 33,
   "id": "3b5e69df",
   "metadata": {},
   "outputs": [],
   "source": [
    "df.to_csv(\"data/histogram.csv\", index=False)"
   ]
  },
  {
   "cell_type": "markdown",
   "id": "0be5c972",
   "metadata": {},
   "source": [
    "## Scatter plot data"
   ]
  },
  {
   "cell_type": "code",
   "execution_count": 36,
   "id": "c86072d5",
   "metadata": {},
   "outputs": [],
   "source": [
    "url = \"https://raw.githubusercontent.com/szrlee/Stock-Time-Series-Analysis/master/data/all_stocks_2006-01-01_to_2018-01-01.csv\"\n",
    "df = pd.read_csv(url)\n",
    "\n",
    "stocks_filter = [\"GOOGL\", \"AMZN\"]\n",
    "df = df.loc[\n",
    "    (df.Name.isin(stocks_filter)) & (pd.to_datetime(df.Date).dt.year >= 2017),\n",
    "    [\"Date\", \"Name\", \"Open\", \"Close\"],\n",
    "]\n",
    "df[\"Return\"] = (df[\"Close\"] - df[\"Open\"]) / df[\"Open\"]"
   ]
  },
  {
   "cell_type": "code",
   "execution_count": 39,
   "id": "090e1f17",
   "metadata": {},
   "outputs": [],
   "source": [
    "df.to_csv(\"data/scatter_plot.csv\", index=False)"
   ]
  },
  {
   "cell_type": "code",
   "execution_count": null,
   "id": "d10ca46f",
   "metadata": {},
   "outputs": [],
   "source": [
    "[object HTMLDivElement]Python Script Area99123456789101112131415›import matplotlib.ticker as mtickerfig, ax = plt.subplots(figsize=(6, 6))df_wide = df.pivot(index=\"Date\", columns=\"Name\", values=\"Return\")ax = df_wide.plot.scatter(    x=\"GOOGL\",     y=\"AMZN\",     title=\"Daily returns - GOOGL vs. AMZN\",     ax=ax)ax.yaxis.set_major_formatter(mticker.PercentFormatter(1))ax.xaxis.set_major_formatter(mticker.PercentFormatter(1))figPython Script Run Button"
   ]
  },
  {
   "cell_type": "markdown",
   "id": "6fd65b39",
   "metadata": {},
   "source": [
    "## Box plot data"
   ]
  },
  {
   "cell_type": "code",
   "execution_count": 41,
   "id": "6f3c13a0",
   "metadata": {},
   "outputs": [],
   "source": [
    "url = \"https://raw.githubusercontent.com/szrlee/Stock-Time-Series-Analysis/master/data/all_stocks_2006-01-01_to_2018-01-01.csv\"\n",
    "df = pd.read_csv(url)\n",
    "\n",
    "stocks = [\"AMZN\", \"GOOGL\", \"IBM\", \"JPM\"]\n",
    "df = df.loc[\n",
    "    (df.Name.isin(stocks)) & (pd.to_datetime(df.Date).dt.year == 2016),\n",
    "    [\"Date\", \"Name\", \"Close\", \"Open\"],\n",
    "]\n",
    "df[\"Return\"] = (df[\"Close\"] - df[\"Open\"]) / df[\"Open\"]\n",
    "df[\"Date\"] = pd.to_datetime(df.Date)"
   ]
  },
  {
   "cell_type": "code",
   "execution_count": 42,
   "id": "76b76c57",
   "metadata": {},
   "outputs": [],
   "source": [
    "df.to_csv(\"data/box_plot.csv\", index=False)"
   ]
  }
 ],
 "metadata": {
  "kernelspec": {
   "display_name": "Python 3 (ipykernel)",
   "language": "python",
   "name": "python3"
  },
  "language_info": {
   "codemirror_mode": {
    "name": "ipython",
    "version": 3
   },
   "file_extension": ".py",
   "mimetype": "text/x-python",
   "name": "python",
   "nbconvert_exporter": "python",
   "pygments_lexer": "ipython3",
   "version": "3.10.5"
  }
 },
 "nbformat": 4,
 "nbformat_minor": 5
}
