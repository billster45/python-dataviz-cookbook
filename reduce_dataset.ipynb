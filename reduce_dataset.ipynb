{
 "cells": [
  {
   "cell_type": "code",
   "execution_count": 2,
   "id": "9c1a4a49",
   "metadata": {},
   "outputs": [],
   "source": [
    "import pandas as pd"
   ]
  },
  {
   "cell_type": "markdown",
   "id": "3baf3f83",
   "metadata": {},
   "source": [
    "## Line chart data"
   ]
  },
  {
   "cell_type": "code",
   "execution_count": 4,
   "id": "02a0ee38",
   "metadata": {},
   "outputs": [],
   "source": [
    "url = \"https://raw.githubusercontent.com/szrlee/Stock-Time-Series-Analysis/master/data/all_stocks_2006-01-01_to_2018-01-01.csv\"\n",
    "df = pd.read_csv(url)\n",
    "\n",
    "df = df.loc[df.Name.isin([\"AAPL\", \"JPM\", \"GOOGL\", \"AMZN\"])]\n",
    "df[\"Date\"] = pd.to_datetime(df.Date)"
   ]
  },
  {
   "cell_type": "code",
   "execution_count": 9,
   "id": "fa785b99",
   "metadata": {},
   "outputs": [],
   "source": [
    "df[df.Date.dt.year >= 2015].to_csv(\"data/line_plot.csv\", index=False)"
   ]
  },
  {
   "cell_type": "markdown",
   "id": "5cd5596e",
   "metadata": {},
   "source": [
    "## Bar chart data"
   ]
  },
  {
   "cell_type": "code",
   "execution_count": 15,
   "id": "37afb21f",
   "metadata": {},
   "outputs": [],
   "source": [
    "url = \"https://raw.githubusercontent.com/szrlee/Stock-Time-Series-Analysis/master/data/all_stocks_2006-01-01_to_2018-01-01.csv\"\n",
    "df = pd.read_csv(url)\n",
    "\n",
    "df = df.loc[df.Name == \"AAPL\", [\"Date\", \"Open\", \"Close\", \"Name\"]]\n",
    "df[\"Year\"] = pd.to_datetime(df.Date).dt.year\n",
    "df = df.query(\"Year >= 2014\").groupby(\"Year\").max().reset_index(drop=False)"
   ]
  },
  {
   "cell_type": "code",
   "execution_count": 16,
   "id": "84983728",
   "metadata": {},
   "outputs": [],
   "source": [
    "df.drop(columns=[\"Date\"]).to_csv(\"data/bar_chart.csv\", index=False)"
   ]
  },
  {
   "cell_type": "markdown",
   "id": "04bc2cd2",
   "metadata": {},
   "source": [
    "## Stacked bar chart data"
   ]
  },
  {
   "cell_type": "code",
   "execution_count": 17,
   "id": "b43dce57",
   "metadata": {},
   "outputs": [],
   "source": [
    "url = \"https://raw.githubusercontent.com/szrlee/Stock-Time-Series-Analysis/master/data/all_stocks_2006-01-01_to_2018-01-01.csv\"\n",
    "df = pd.read_csv(url)\n",
    "\n",
    "stocks_filter = [\"AAPL\", \"JPM\", \"GOOGL\", \"AMZN\", \"IBM\"]\n",
    "df = df[df.Name.isin(stocks_filter)]\n",
    "df[\"Date\"] = pd.to_datetime(df.Date)\n",
    "df[\"Year\"] = pd.to_datetime(df.Date).dt.year\n",
    "df[\"Volume\"] = df[\"Volume\"] / 1e9\n",
    "\n",
    "df = (\n",
    "    df[[\"Year\", \"Volume\", \"Name\"]]\n",
    "    .query(\"Year >= 2012\")\n",
    "    .groupby([\"Year\", \"Name\"])\n",
    "    .sum()\n",
    "    .reset_index(drop=False)\n",
    ")"
   ]
  },
  {
   "cell_type": "code",
   "execution_count": 20,
   "id": "13a41431",
   "metadata": {},
   "outputs": [],
   "source": [
    "df.to_csv(\"data/stacked_bar_chart.csv\", index=False)"
   ]
  },
  {
   "cell_type": "markdown",
   "id": "2ab5c416",
   "metadata": {},
   "source": [
    "## Stacked area chart data"
   ]
  },
  {
   "cell_type": "code",
   "execution_count": 21,
   "id": "17bad811",
   "metadata": {},
   "outputs": [],
   "source": [
    "url = \"https://raw.githubusercontent.com/szrlee/Stock-Time-Series-Analysis/master/data/all_stocks_2006-01-01_to_2018-01-01.csv\"\n",
    "df = pd.read_csv(url)\n",
    "\n",
    "stocks = [\"AAPL\", \"AMZN\", \"GOOGL\", \"IBM\", \"JPM\"]\n",
    "df = df.loc[df.Name.isin(stocks), [\"Date\", \"Name\", \"Volume\"]]\n",
    "df[\"Date\"] = pd.to_datetime(df.Date)\n",
    "df = df[df.Date.dt.year >= 2017]\n",
    "df[\"Volume Perc\"] = df[\"Volume\"] / df.groupby(\"Date\")[\"Volume\"].transform(\"sum\")"
   ]
  },
  {
   "cell_type": "code",
   "execution_count": 23,
   "id": "c35c0a28",
   "metadata": {},
   "outputs": [],
   "source": [
    "df.to_csv(\"data/stacked_area_chart.csv\", index=False)"
   ]
  },
  {
   "cell_type": "markdown",
   "id": "5bb588d5",
   "metadata": {},
   "source": [
    "## Pie/Donut chart data"
   ]
  },
  {
   "cell_type": "code",
   "execution_count": 24,
   "id": "aab81719",
   "metadata": {},
   "outputs": [],
   "source": [
    "url = \"https://raw.githubusercontent.com/szrlee/Stock-Time-Series-Analysis/master/data/all_stocks_2006-01-01_to_2018-01-01.csv\"\n",
    "df = pd.read_csv(url)\n",
    "\n",
    "stocks_filter = [\"AAPL\", \"JPM\", \"GOOGL\", \"AMZN\", \"IBM\"]\n",
    "df = df.loc[df.Name.isin(stocks_filter), [\"Name\", \"Volume\"]]\n",
    "df = df.groupby(\"Name\").sum().reset_index()"
   ]
  },
  {
   "cell_type": "code",
   "execution_count": 25,
   "id": "66f37cf6",
   "metadata": {},
   "outputs": [],
   "source": [
    "df.to_csv(\"data/donut_chart.csv\", index=False)"
   ]
  },
  {
   "cell_type": "markdown",
   "id": "51e154ca",
   "metadata": {},
   "source": [
    "## Histogram data"
   ]
  },
  {
   "cell_type": "code",
   "execution_count": 32,
   "id": "d030bace",
   "metadata": {},
   "outputs": [],
   "source": [
    "url = \"https://raw.githubusercontent.com/szrlee/Stock-Time-Series-Analysis/master/data/all_stocks_2006-01-01_to_2018-01-01.csv\"\n",
    "df = pd.read_csv(url)\n",
    "\n",
    "stocks_filter = [\"GOOGL\"]\n",
    "df = df.loc[df.Name.isin(stocks_filter), [\"Name\", \"Date\", \"Close\"]]"
   ]
  },
  {
   "cell_type": "code",
   "execution_count": 33,
   "id": "32e00ab2",
   "metadata": {},
   "outputs": [],
   "source": [
    "df.to_csv(\"data/histogram.csv\", index=False)"
   ]
  },
  {
   "cell_type": "markdown",
   "id": "b1676938",
   "metadata": {},
   "source": [
    "## Scatter plot data"
   ]
  },
  {
   "cell_type": "code",
   "execution_count": 36,
   "id": "5eebb85a",
   "metadata": {},
   "outputs": [],
   "source": [
    "url = \"https://raw.githubusercontent.com/szrlee/Stock-Time-Series-Analysis/master/data/all_stocks_2006-01-01_to_2018-01-01.csv\"\n",
    "df = pd.read_csv(url)\n",
    "\n",
    "stocks_filter = [\"GOOGL\", \"AMZN\"]\n",
    "df = df.loc[\n",
    "    (df.Name.isin(stocks_filter)) & (pd.to_datetime(df.Date).dt.year >= 2017),\n",
    "    [\"Date\", \"Name\", \"Open\", \"Close\"],\n",
    "]\n",
    "df[\"Return\"] = (df[\"Close\"] - df[\"Open\"]) / df[\"Open\"]"
   ]
  },
  {
   "cell_type": "code",
   "execution_count": 39,
   "id": "80868ce7",
   "metadata": {},
   "outputs": [],
   "source": [
    "df.to_csv(\"data/scatter_plot.csv\", index=False)"
   ]
  },
  {
   "cell_type": "markdown",
   "id": "ad41b1ca",
   "metadata": {},
   "source": [
    "## Box plot data"
   ]
  },
  {
   "cell_type": "code",
   "execution_count": 41,
   "id": "d505b068",
   "metadata": {},
   "outputs": [],
   "source": [
    "url = \"https://raw.githubusercontent.com/szrlee/Stock-Time-Series-Analysis/master/data/all_stocks_2006-01-01_to_2018-01-01.csv\"\n",
    "df = pd.read_csv(url)\n",
    "\n",
    "stocks = [\"AMZN\", \"GOOGL\", \"IBM\", \"JPM\"]\n",
    "df = df.loc[\n",
    "    (df.Name.isin(stocks)) & (pd.to_datetime(df.Date).dt.year == 2016),\n",
    "    [\"Date\", \"Name\", \"Close\", \"Open\"],\n",
    "]\n",
    "df[\"Return\"] = (df[\"Close\"] - df[\"Open\"]) / df[\"Open\"]\n",
    "df[\"Date\"] = pd.to_datetime(df.Date)"
   ]
  },
  {
   "cell_type": "code",
   "execution_count": 42,
   "id": "b36f444d",
   "metadata": {},
   "outputs": [],
   "source": [
    "df.to_csv(\"data/box_plot.csv\", index=False)"
   ]
  }
 ],
 "metadata": {
  "kernelspec": {
   "display_name": "Python 3 (ipykernel)",
   "language": "python",
   "name": "python3"
  },
  "language_info": {
   "codemirror_mode": {
    "name": "ipython",
    "version": 3
   },
   "file_extension": ".py",
   "mimetype": "text/x-python",
   "name": "python",
   "nbconvert_exporter": "python",
   "pygments_lexer": "ipython3",
   "version": "3.10.5"
  }
 },
 "nbformat": 4,
 "nbformat_minor": 5
}
